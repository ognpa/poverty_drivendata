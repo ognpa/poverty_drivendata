{
 "cells": [
  {
   "cell_type": "markdown",
   "metadata": {},
   "source": [
    "# Basic workflow, to get started\n",
    "\n",
    "In this notebook, I will write functions to ease the process of building features, ensembling models, saving models and their metadata (including predictions, in a database). In addition, the functions I write should communicate with each other really well that helps me build a decent pipeline with several features and minimal effort."
   ]
  },
  {
   "cell_type": "code",
   "execution_count": 1,
   "metadata": {},
   "outputs": [],
   "source": [
    "import pandas as pd\n",
    "from sklearn.preprocessing import LabelEncoder, Imputer\n",
    "from sklearn.linear_model import LogisticRegressionCV"
   ]
  },
  {
   "cell_type": "markdown",
   "metadata": {},
   "source": [
    "## Household features\n",
    "\n",
    "Initially, I will focus on household level data for prediction and check the results on the leaderboard. Then, I will move on to individual level features and work on combining them with household level features. One step at a time."
   ]
  },
  {
   "cell_type": "code",
   "execution_count": 2,
   "metadata": {},
   "outputs": [],
   "source": [
    "train = pd.read_csv('../data/raw/B_hhold_train.csv')"
   ]
  },
  {
   "cell_type": "code",
   "execution_count": 3,
   "metadata": {},
   "outputs": [
    {
     "data": {
      "text/plain": [
       "False    3004\n",
       "True      251\n",
       "Name: poor, dtype: int64"
      ]
     },
     "execution_count": 3,
     "metadata": {},
     "output_type": "execute_result"
    }
   ],
   "source": [
    "train['poor'].value_counts()"
   ]
  },
  {
   "cell_type": "code",
   "execution_count": 4,
   "metadata": {},
   "outputs": [],
   "source": [
    "def get_metafeatures(df):\n",
    "    \"\"\"\n",
    "    Get metadata of the columns in the training set.\n",
    "    \n",
    "    Returns a metadata DataFrame.\n",
    "    \"\"\"\n",
    "    metafeatures = []\n",
    "    rows = df.shape[0]\n",
    "    for col in df.columns:\n",
    "        d = {'column': col,\n",
    "             'n_unique': df[col].nunique(),\n",
    "             'missing': df[col].isnull().sum()*1.0/rows,\n",
    "             'type': df[col].dtype}\n",
    "        metafeatures.append(d)\n",
    "    return pd.DataFrame(metafeatures)"
   ]
  },
  {
   "cell_type": "code",
   "execution_count": 5,
   "metadata": {},
   "outputs": [
    {
     "data": {
      "text/html": [
       "<div>\n",
       "<style scoped>\n",
       "    .dataframe tbody tr th:only-of-type {\n",
       "        vertical-align: middle;\n",
       "    }\n",
       "\n",
       "    .dataframe tbody tr th {\n",
       "        vertical-align: top;\n",
       "    }\n",
       "\n",
       "    .dataframe thead th {\n",
       "        text-align: right;\n",
       "    }\n",
       "</style>\n",
       "<table border=\"1\" class=\"dataframe\">\n",
       "  <thead>\n",
       "    <tr style=\"text-align: right;\">\n",
       "      <th></th>\n",
       "      <th>column</th>\n",
       "      <th>missing</th>\n",
       "      <th>n_unique</th>\n",
       "      <th>type</th>\n",
       "    </tr>\n",
       "  </thead>\n",
       "  <tbody>\n",
       "    <tr>\n",
       "      <th>0</th>\n",
       "      <td>id</td>\n",
       "      <td>0.0</td>\n",
       "      <td>3255</td>\n",
       "      <td>int64</td>\n",
       "    </tr>\n",
       "    <tr>\n",
       "      <th>1</th>\n",
       "      <td>RzaXNcgd</td>\n",
       "      <td>0.0</td>\n",
       "      <td>5</td>\n",
       "      <td>object</td>\n",
       "    </tr>\n",
       "    <tr>\n",
       "      <th>2</th>\n",
       "      <td>LfWEhutI</td>\n",
       "      <td>0.0</td>\n",
       "      <td>2</td>\n",
       "      <td>object</td>\n",
       "    </tr>\n",
       "    <tr>\n",
       "      <th>3</th>\n",
       "      <td>jXOqJdNL</td>\n",
       "      <td>0.0</td>\n",
       "      <td>2</td>\n",
       "      <td>object</td>\n",
       "    </tr>\n",
       "    <tr>\n",
       "      <th>4</th>\n",
       "      <td>wJthinfa</td>\n",
       "      <td>0.0</td>\n",
       "      <td>19</td>\n",
       "      <td>int64</td>\n",
       "    </tr>\n",
       "  </tbody>\n",
       "</table>\n",
       "</div>"
      ],
      "text/plain": [
       "     column  missing  n_unique    type\n",
       "0        id      0.0      3255   int64\n",
       "1  RzaXNcgd      0.0         5  object\n",
       "2  LfWEhutI      0.0         2  object\n",
       "3  jXOqJdNL      0.0         2  object\n",
       "4  wJthinfa      0.0        19   int64"
      ]
     },
     "execution_count": 5,
     "metadata": {},
     "output_type": "execute_result"
    }
   ],
   "source": [
    "meta = get_metafeatures(train)\n",
    "meta.head()"
   ]
  },
  {
   "cell_type": "markdown",
   "metadata": {},
   "source": [
    "### Feature engineering\n",
    "\n",
    "**Ideas**\n",
    "- Feature selection strategies - recursive feature elimination or ridge/lasso style regularization\n",
    "- Dummy variables for categorical types, usually columns with `object` data types with < 50-60 unique values\n",
    "- Scaling and normalization for integer and float variables\n",
    "- Imputation of missing variables, only in case of country B"
   ]
  },
  {
   "cell_type": "code",
   "execution_count": null,
   "metadata": {},
   "outputs": [],
   "source": [
    "# impute missing values\n",
    "cols_to_impute = meta.loc[(meta['missing'] > 0.0) & (meta['missing'] < 0.5), 'column'].tolist()\n",
    "cols_to_drop = meta.loc[meta['missing'] > 0.5, 'column'].tolist()"
   ]
  },
  {
   "cell_type": "code",
   "execution_count": null,
   "metadata": {},
   "outputs": [],
   "source": [
    "# checking number of unique values for object dtypes\n",
    "meta[meta['type'] == 'object'].sort_values('n_unique', ascending=False).head(10)"
   ]
  },
  {
   "cell_type": "code",
   "execution_count": null,
   "metadata": {},
   "outputs": [],
   "source": [
    "def impute_fe(df, columns):\n",
    "    \"\"\"Impute columns with missing values\"\"\"\n",
    "    if not columns:\n",
    "        return df\n",
    "    imputer = Imputer(missing_values='NaN', strategy='mean', axis=0)\n",
    "    df.loc[:, columns] = imputer.fit_transform(df.loc[:, columns])\n",
    "    return df"
   ]
  },
  {
   "cell_type": "code",
   "execution_count": null,
   "metadata": {},
   "outputs": [],
   "source": [
    "def categorical_fe(df, columns):\n",
    "    \"\"\"Convert categorical variables to numbers, for use in sklearn estimators.\n",
    "    This method can't transform the numbers back to the original values, although\n",
    "    that can be implemented.\n",
    "    \"\"\"\n",
    "    le = LabelEncoder()\n",
    "    for col in columns:\n",
    "        df.loc[:, col] = le.fit_transform(df[col])\n",
    "    return df"
   ]
  },
  {
   "cell_type": "code",
   "execution_count": null,
   "metadata": {},
   "outputs": [],
   "source": [
    "categorical_columns = meta.loc[meta['type'] == 'object', 'column'].tolist()\n",
    "train = impute_fe(train, cols_to_impute)\n",
    "train = categorical_fe(train, categorical_columns)"
   ]
  },
  {
   "cell_type": "markdown",
   "metadata": {},
   "source": [
    "### Model training and cross-validation"
   ]
  },
  {
   "cell_type": "code",
   "execution_count": null,
   "metadata": {},
   "outputs": [],
   "source": [
    "X = train.drop(['id', 'poor', 'country'] + cols_to_drop, axis=1).as_matrix()\n",
    "y = train['poor'].as_matrix()"
   ]
  },
  {
   "cell_type": "code",
   "execution_count": null,
   "metadata": {},
   "outputs": [],
   "source": [
    "clf = LogisticRegressionCV(n_jobs=-1, scoring='neg_log_loss')\n",
    "clf.fit(X, y)"
   ]
  },
  {
   "cell_type": "markdown",
   "metadata": {},
   "source": [
    "### Output predictions"
   ]
  },
  {
   "cell_type": "code",
   "execution_count": null,
   "metadata": {},
   "outputs": [],
   "source": [
    "test = pd.read_csv('../data/raw/A_hhold_test.csv')\\\n",
    "         .pipe(categorical_fe, categorical_columns)"
   ]
  },
  {
   "cell_type": "code",
   "execution_count": null,
   "metadata": {},
   "outputs": [],
   "source": [
    "X_test = test.drop(['id', 'country'], axis=1).as_matrix()"
   ]
  },
  {
   "cell_type": "code",
   "execution_count": null,
   "metadata": {},
   "outputs": [],
   "source": [
    "preds = clf.predict_proba(X_test)"
   ]
  },
  {
   "cell_type": "code",
   "execution_count": null,
   "metadata": {},
   "outputs": [],
   "source": [
    "def make_sub(preds, test_feat, country):\n",
    "    country_sub = pd.DataFrame(data=preds[:, 1],\n",
    "                               columns=['poor'],\n",
    "                               index=test_feat.index)\n",
    "    # add country code for joining later\n",
    "    country_sub['country'] = country\n",
    "    return country_sub[['country', 'poor']]"
   ]
  },
  {
   "cell_type": "code",
   "execution_count": null,
   "metadata": {},
   "outputs": [],
   "source": [
    "a_sub = make_sub(preds, test, 'A')"
   ]
  }
 ],
 "metadata": {
  "kernelspec": {
   "display_name": "Python 3",
   "language": "python",
   "name": "python3"
  },
  "language_info": {
   "codemirror_mode": {
    "name": "ipython",
    "version": 3
   },
   "file_extension": ".py",
   "mimetype": "text/x-python",
   "name": "python",
   "nbconvert_exporter": "python",
   "pygments_lexer": "ipython3",
   "version": "3.6.4"
  }
 },
 "nbformat": 4,
 "nbformat_minor": 2
}
